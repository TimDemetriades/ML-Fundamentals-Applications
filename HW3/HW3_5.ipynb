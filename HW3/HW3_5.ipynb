{
 "cells": [
  {
   "cell_type": "markdown",
   "metadata": {},
   "source": [
    "# HW3\n",
    "## Question 5\n",
    "### Tim Demetriades\n",
    "#### Neural Networks\n",
    "Build a neural network with one hidden layer to predict class labels for Iris plant dataset."
   ]
  },
  {
   "cell_type": "markdown",
   "metadata": {},
   "source": [
    "#### 1.  Properly split the data to training and testing set, and report the training, testing accuracy. You can use sigmoid activation function and select any reasonable size of hidden units. Note that for this part, you need to implement the forward/backward function yourself without using the deep learning package. However, you can use the deep learning package, e.g., tensorflow, pytorch, matconvnet etc, to compare with your own results.\n"
   ]
  },
  {
   "cell_type": "code",
   "execution_count": 1,
   "metadata": {},
   "outputs": [],
   "source": [
    "import numpy as np\n",
    "\n",
    "# import load_iris function from datasets module\n",
    "from sklearn.datasets import load_iris"
   ]
  },
  {
   "cell_type": "markdown",
   "metadata": {},
   "source": [
    "First the data is loaded in."
   ]
  },
  {
   "cell_type": "code",
   "execution_count": 2,
   "metadata": {},
   "outputs": [
    {
     "name": "stdout",
     "output_type": "stream",
     "text": [
      ".. _iris_dataset:\n",
      "\n",
      "Iris plants dataset\n",
      "--------------------\n",
      "\n",
      "**Data Set Characteristics:**\n",
      "\n",
      "    :Number of Instances: 150 (50 in each of three classes)\n",
      "    :Number of Attributes: 4 numeric, predictive attributes and the class\n",
      "    :Attribute Information:\n",
      "        - sepal length in cm\n",
      "        - sepal width in cm\n",
      "        - petal length in cm\n",
      "        - petal width in cm\n",
      "        - class:\n",
      "                - Iris-Setosa\n",
      "                - Iris-Versicolour\n",
      "                - Iris-Virginica\n",
      "                \n",
      "    :Summary Statistics:\n",
      "\n",
      "    ============== ==== ==== ======= ===== ====================\n",
      "                    Min  Max   Mean    SD   Class Correlation\n",
      "    ============== ==== ==== ======= ===== ====================\n",
      "    sepal length:   4.3  7.9   5.84   0.83    0.7826\n",
      "    sepal width:    2.0  4.4   3.05   0.43   -0.4194\n",
      "    petal length:   1.0  6.9   3.76   1.76    0.9490  (high!)\n",
      "    petal width:    0.1  2.5   1.20   0.76    0.9565  (high!)\n",
      "    ============== ==== ==== ======= ===== ====================\n",
      "\n",
      "    :Missing Attribute Values: None\n",
      "    :Class Distribution: 33.3% for each of 3 classes.\n",
      "    :Creator: R.A. Fisher\n",
      "    :Donor: Michael Marshall (MARSHALL%PLU@io.arc.nasa.gov)\n",
      "    :Date: July, 1988\n",
      "\n",
      "The famous Iris database, first used by Sir R.A. Fisher. The dataset is taken\n",
      "from Fisher's paper. Note that it's the same as in R, but not as in the UCI\n",
      "Machine Learning Repository, which has two wrong data points.\n",
      "\n",
      "This is perhaps the best known database to be found in the\n",
      "pattern recognition literature.  Fisher's paper is a classic in the field and\n",
      "is referenced frequently to this day.  (See Duda & Hart, for example.)  The\n",
      "data set contains 3 classes of 50 instances each, where each class refers to a\n",
      "type of iris plant.  One class is linearly separable from the other 2; the\n",
      "latter are NOT linearly separable from each other.\n",
      "\n",
      ".. topic:: References\n",
      "\n",
      "   - Fisher, R.A. \"The use of multiple measurements in taxonomic problems\"\n",
      "     Annual Eugenics, 7, Part II, 179-188 (1936); also in \"Contributions to\n",
      "     Mathematical Statistics\" (John Wiley, NY, 1950).\n",
      "   - Duda, R.O., & Hart, P.E. (1973) Pattern Classification and Scene Analysis.\n",
      "     (Q327.D83) John Wiley & Sons.  ISBN 0-471-22361-1.  See page 218.\n",
      "   - Dasarathy, B.V. (1980) \"Nosing Around the Neighborhood: A New System\n",
      "     Structure and Classification Rule for Recognition in Partially Exposed\n",
      "     Environments\".  IEEE Transactions on Pattern Analysis and Machine\n",
      "     Intelligence, Vol. PAMI-2, No. 1, 67-71.\n",
      "   - Gates, G.W. (1972) \"The Reduced Nearest Neighbor Rule\".  IEEE Transactions\n",
      "     on Information Theory, May 1972, 431-433.\n",
      "   - See also: 1988 MLC Proceedings, 54-64.  Cheeseman et al\"s AUTOCLASS II\n",
      "     conceptual clustering system finds 3 classes in the data.\n",
      "   - Many, many more ...\n"
     ]
    }
   ],
   "source": [
    "# save 'bunch' object containing iris dataset and its attributes\n",
    "iris = load_iris()\n",
    "print(iris.DESCR)   # print description of the iris dataset"
   ]
  },
  {
   "cell_type": "code",
   "execution_count": 3,
   "metadata": {},
   "outputs": [
    {
     "name": "stdout",
     "output_type": "stream",
     "text": [
      "(150, 4)\n",
      "[5.1 3.5 1.4 0.2]\n"
     ]
    }
   ],
   "source": [
    "# print the iris data\n",
    "print(iris.data.shape)\n",
    "print(iris.data[0])"
   ]
  },
  {
   "cell_type": "code",
   "execution_count": 4,
   "metadata": {},
   "outputs": [
    {
     "data": {
      "text/plain": [
       "['sepal length (cm)',\n",
       " 'sepal width (cm)',\n",
       " 'petal length (cm)',\n",
       " 'petal width (cm)']"
      ]
     },
     "execution_count": 4,
     "metadata": {},
     "output_type": "execute_result"
    }
   ],
   "source": [
    "# print the names of the 4 features\n",
    "iris.feature_names"
   ]
  },
  {
   "cell_type": "code",
   "execution_count": 5,
   "metadata": {},
   "outputs": [
    {
     "data": {
      "text/plain": [
       "array([0, 0, 0, 0, 0, 0, 0, 0, 0, 0, 0, 0, 0, 0, 0, 0, 0, 0, 0, 0, 0, 0,\n",
       "       0, 0, 0, 0, 0, 0, 0, 0, 0, 0, 0, 0, 0, 0, 0, 0, 0, 0, 0, 0, 0, 0,\n",
       "       0, 0, 0, 0, 0, 0, 1, 1, 1, 1, 1, 1, 1, 1, 1, 1, 1, 1, 1, 1, 1, 1,\n",
       "       1, 1, 1, 1, 1, 1, 1, 1, 1, 1, 1, 1, 1, 1, 1, 1, 1, 1, 1, 1, 1, 1,\n",
       "       1, 1, 1, 1, 1, 1, 1, 1, 1, 1, 1, 1, 2, 2, 2, 2, 2, 2, 2, 2, 2, 2,\n",
       "       2, 2, 2, 2, 2, 2, 2, 2, 2, 2, 2, 2, 2, 2, 2, 2, 2, 2, 2, 2, 2, 2,\n",
       "       2, 2, 2, 2, 2, 2, 2, 2, 2, 2, 2, 2, 2, 2, 2, 2, 2, 2])"
      ]
     },
     "execution_count": 5,
     "metadata": {},
     "output_type": "execute_result"
    }
   ],
   "source": [
    "# print ints representing the species of each observation\n",
    "iris.target"
   ]
  },
  {
   "cell_type": "code",
   "execution_count": 6,
   "metadata": {},
   "outputs": [
    {
     "data": {
      "text/plain": [
       "array(['setosa', 'versicolor', 'virginica'], dtype='<U10')"
      ]
     },
     "execution_count": 6,
     "metadata": {},
     "output_type": "execute_result"
    }
   ],
   "source": [
    "# print the encoding scheme for species: 0 = setosa, 1 = versicolor, 2 = virginica\n",
    "iris.target_names"
   ]
  },
  {
   "cell_type": "markdown",
   "metadata": {},
   "source": [
    "Here the data is split into matrices/vectors. X = data, Y = targets."
   ]
  },
  {
   "cell_type": "code",
   "execution_count": 7,
   "metadata": {},
   "outputs": [],
   "source": [
    "X = iris.data\n",
    "Y = iris.target"
   ]
  },
  {
   "cell_type": "markdown",
   "metadata": {},
   "source": [
    "Since there's no easy way to plot 4D data, let's plot the data as 2 2D plots. The first will show the type of iris given the sepal length and width, and the second will show the type of iris given the petal length and width."
   ]
  },
  {
   "cell_type": "code",
   "execution_count": 8,
   "metadata": {},
   "outputs": [],
   "source": [
    "import matplotlib.pyplot as plt"
   ]
  },
  {
   "cell_type": "code",
   "execution_count": 9,
   "metadata": {},
   "outputs": [
    {
     "data": {
      "image/png": "[encoded data removed]",
      "text/plain": [
       "<Figure size 576x432 with 1 Axes>"
      ]
     },
     "metadata": {
      "needs_background": "light"
     },
     "output_type": "display_data"
    }
   ],
   "source": [
    "plt.figure(0, figsize=(8,6))\n",
    "plt.clf()\n",
    "\n",
    "plt.scatter(X[:, 0], X[:, 1], c=Y)\n",
    "plt.xlabel('Sepal Length')\n",
    "plt.ylabel('Sepal Width')\n",
    "plt.title('Sepal Width vs. Sepal Length')\n",
    "plt.show()"
   ]
  },
  {
   "cell_type": "code",
   "execution_count": 10,
   "metadata": {},
   "outputs": [
    {
     "data": {
      "image/png": "[encoded data removed]",
      "text/plain": [
       "<Figure size 576x432 with 1 Axes>"
      ]
     },
     "metadata": {
      "needs_background": "light"
     },
     "output_type": "display_data"
    }
   ],
   "source": [
    "plt.figure(0, figsize=(8,6))\n",
    "plt.clf()\n",
    "\n",
    "plt.scatter(X[:, 2], X[:, 3], c=Y)\n",
    "plt.xlabel('Petal Length')\n",
    "plt.ylabel('Petal Width')\n",
    "plt.title('Petal Width vs. Petal Length')\n",
    "plt.show()"
   ]
  },
  {
   "cell_type": "markdown",
   "metadata": {},
   "source": [
    "Let's do some pre-processing to the data to get it ready for training."
   ]
  },
  {
   "cell_type": "code",
   "execution_count": 11,
   "metadata": {},
   "outputs": [],
   "source": [
    "from sklearn.preprocessing import StandardScaler"
   ]
  },
  {
   "cell_type": "markdown",
   "metadata": {},
   "source": [
    "First the data is standardized to give it a mean of 0 and standard deviation of 1."
   ]
  },
  {
   "cell_type": "code",
   "execution_count": 12,
   "metadata": {},
   "outputs": [],
   "source": [
    "# Standardize input data by remoivng the mean and scaling to unit variance\n",
    "# Mean = 0, Standard Deviation = 1\n",
    "StandardScaler = StandardScaler()\n",
    "X = StandardScaler.fit_transform(X)"
   ]
  },
  {
   "cell_type": "code",
   "execution_count": 13,
   "metadata": {},
   "outputs": [
    {
     "name": "stdout",
     "output_type": "stream",
     "text": [
      "Mean of X = 0\n",
      "Standard Deviation of X = 1.0\n"
     ]
    }
   ],
   "source": [
    "print(f'Mean of X = {round(np.mean(X))}')\n",
    "print(f'Standard Deviation of X = {np.std(X)}')"
   ]
  },
  {
   "cell_type": "code",
   "execution_count": 14,
   "metadata": {},
   "outputs": [],
   "source": [
    "from sklearn.preprocessing import OneHotEncoder"
   ]
  },
  {
   "cell_type": "markdown",
   "metadata": {},
   "source": [
    "Here the target data is converted to one-hot encoding so that we can use the categorical cross-entropy loss function."
   ]
  },
  {
   "cell_type": "code",
   "execution_count": 15,
   "metadata": {},
   "outputs": [],
   "source": [
    "# Convert classes into one hot labels \n",
    "Y = Y.reshape(-1, 1)\n",
    "OneHotEncoder = OneHotEncoder()\n",
    "OneHotEncoder.fit(Y)\n",
    "one_hot_labels = OneHotEncoder.transform(Y).toarray()\n",
    "Y = one_hot_labels\n",
    "\n",
    "# Could also just do this\n",
    "# from tensorflow.keras.utils import to_categorical\n",
    "# Y = to_categorical(Y)"
   ]
  },
  {
   "cell_type": "code",
   "execution_count": 16,
   "metadata": {},
   "outputs": [
    {
     "name": "stdout",
     "output_type": "stream",
     "text": [
      "[1. 0. 0.]\n",
      "[0. 0. 1.]\n"
     ]
    }
   ],
   "source": [
    "print(Y[0])\n",
    "print(Y[-1])"
   ]
  },
  {
   "cell_type": "markdown",
   "metadata": {},
   "source": [
    "The data is split into training data and testing data."
   ]
  },
  {
   "cell_type": "code",
   "execution_count": 17,
   "metadata": {},
   "outputs": [],
   "source": [
    "# Split x and y into training and testing sets\n",
    "from sklearn.model_selection import train_test_split"
   ]
  },
  {
   "cell_type": "code",
   "execution_count": 18,
   "metadata": {},
   "outputs": [],
   "source": [
    "x_train, x_test, y_train, y_test = train_test_split(X, Y, test_size=0.3, random_state=5)"
   ]
  },
  {
   "cell_type": "code",
   "execution_count": 19,
   "metadata": {},
   "outputs": [
    {
     "name": "stdout",
     "output_type": "stream",
     "text": [
      "105\n",
      "45\n"
     ]
    }
   ],
   "source": [
    "print(len(x_train))\n",
    "print(len(x_test))"
   ]
  },
  {
   "attachments": {
    "6a83671e-23de-4fa4-b4fa-4a05e2f55a93.png": {
     "image/png": "[encoded data removed]"
    }
   },
   "cell_type": "markdown",
   "metadata": {},
   "source": [
    "Below is the loss formula we will use. This formula is able to handle multiple classes that are one-hot encoded.\n",
    "\n",
    "**Categorical Cross-Entropy Loss**\n",
    "\n",
    "![image.png](attachment:6a83671e-23de-4fa4-b4fa-4a05e2f55a93.png)"
   ]
  },
  {
   "cell_type": "markdown",
   "metadata": {},
   "source": [
    "Here is the Neural Network class. It contains all the methods needed to train the classifier."
   ]
  },
  {
   "cell_type": "code",
   "execution_count": 20,
   "metadata": {},
   "outputs": [],
   "source": [
    "class Neural_Network():\n",
    "    def __init__(self, input_size, output_size, hidden_size, iterations, learning_rate):\n",
    "        self.iterations = iterations\n",
    "        self.learning_rate = learning_rate\n",
    "\n",
    "        self.input_size = input_size\n",
    "        self.output_size = output_size\n",
    "        self.hidden_size = hidden_size\n",
    "        \n",
    "        self.w1 = np.random.randn(self.input_size, self.hidden_size)   \n",
    "        self.w2 = np.random.randn(self.hidden_size, self.output_size)\n",
    "        \n",
    "        self.train_loss_list = []\n",
    "        self.train_accuracy_list = []\n",
    "        \n",
    "    # Activation functions and derivatives\n",
    "    def sigmoid(self, x):\n",
    "        return 1 / (1 + np.exp(-x))\n",
    "\n",
    "    def sigmoid_derivative(self, x):\n",
    "        return self.sigmoid(x) * (1 - self.sigmoid(x))\n",
    "    \n",
    "    def feed_forward(self, x):\n",
    "        # Input layer to hidden layer\n",
    "        self.z1 = x @ self.w1    \n",
    "        self.h1 = self.sigmoid(self.z1)\n",
    "\n",
    "        # Hidden layer to output layer\n",
    "        self.z2 = self.h1 @ self.w2        \n",
    "        self.h2 = self.sigmoid(self.z2)\n",
    "            \n",
    "    def back_propagation(self, x, y):\n",
    "        # d_z2 = (dL/dh2)*(dh2/dz2)\n",
    "        self.d_z2 = (-y * (1 / self.h2)) * self.sigmoid_derivative(self.h2)\n",
    "\n",
    "        # d_w2 = (dL/dz2)*(dz2/dw2)\n",
    "        self.d_w2 = self.h1.T @ self.d_z2                                                                  \n",
    "\n",
    "        self.d_w2 /= len(x)    # normalize\n",
    "\n",
    "        # d_z1 = (dL/dh1)*(dh1/dz1) = [(dL/dz2)*(dz2/dh1)]*(dh1/dz1)\n",
    "        self.d_z1 = (self.d_z2 @ self.w2.T) * self.sigmoid_derivative(self.h1)\n",
    "\n",
    "        # d_w1 = (dL/dz1)*(dz1/dw1)\n",
    "        self.d_w1 = x.T @ self.d_z1\n",
    "\n",
    "        self.d_w1 /= len(x)    # normalize\n",
    "\n",
    "        # Adjust weights\n",
    "        self.w1 = self.w1 - self.learning_rate * self.d_w1\n",
    "        self.w2 = self.w2 - self.learning_rate * self.d_w2\n",
    "        \n",
    "    # Calculate categorical cross-entropy loss\n",
    "    def calculate_loss(self, y):\n",
    "        loss = -1 * np.sum(y * np.log(self.h2))\n",
    "        return loss\n",
    "        \n",
    "    def calculate_accuracy(self, y):\n",
    "        accuracy = np.mean(np.equal(np.argmax(y, axis=-1), np.argmax(iris_classifier.h2, axis=-1)))\n",
    "        return accuracy\n",
    "        \n",
    "    # Takes training data and updates weights using back propagation\n",
    "    def train(self, x, y):\n",
    "        for iter in range(self.iterations):\n",
    "            self.feed_forward(x)\n",
    "            \n",
    "            self.train_loss = self.calculate_loss(y)\n",
    "            self.train_accuracy = self.calculate_accuracy(y)\n",
    "            self.train_loss_list.append(self.train_loss)\n",
    "            self.train_accuracy_list.append(self.train_accuracy)\n",
    "            \n",
    "            self.back_propagation(x, y)\n",
    "            \n",
    "    # Takes testing data to give testing loss and accuracy\n",
    "    def predict(self, x, y):\n",
    "        self.feed_forward(x)\n",
    "        \n",
    "        self.test_loss = self.calculate_loss(y)\n",
    "        self.test_accuracy = self.calculate_accuracy(y)"
   ]
  },
  {
   "cell_type": "markdown",
   "metadata": {},
   "source": [
    "Here we create the iris classifier using the Neural Network class."
   ]
  },
  {
   "cell_type": "code",
   "execution_count": 21,
   "metadata": {},
   "outputs": [],
   "source": [
    "iris_classifier = Neural_Network(input_size = X.shape[1],\n",
    "                                 output_size = len(iris.target_names),\n",
    "                                 hidden_size = 25,\n",
    "                                 iterations = 1000,\n",
    "                                 learning_rate = 0.01)"
   ]
  },
  {
   "cell_type": "markdown",
   "metadata": {},
   "source": [
    "The classifier is trained using the training data."
   ]
  },
  {
   "cell_type": "code",
   "execution_count": 22,
   "metadata": {},
   "outputs": [],
   "source": [
    "iris_classifier.train(x_train, y_train)"
   ]
  },
  {
   "cell_type": "markdown",
   "metadata": {},
   "source": [
    "Below we plot the training loss and accuracy."
   ]
  },
  {
   "cell_type": "code",
   "execution_count": 23,
   "metadata": {},
   "outputs": [
    {
     "data": {
      "text/plain": [
       "<function matplotlib.pyplot.show(close=None, block=None)>"
      ]
     },
     "execution_count": 23,
     "metadata": {},
     "output_type": "execute_result"
    },
    {
     "data": {
      "image/png": "[encoded data removed]",
      "text/plain": [
       "<Figure size 432x288 with 1 Axes>"
      ]
     },
     "metadata": {
      "needs_background": "light"
     },
     "output_type": "display_data"
    }
   ],
   "source": [
    "plt.plot(iris_classifier.train_loss_list)\n",
    "plt.title('Training Loss')\n",
    "plt.xlabel('Iterations')\n",
    "plt.ylabel('Loss')\n",
    "plt.show"
   ]
  },
  {
   "cell_type": "code",
   "execution_count": 24,
   "metadata": {},
   "outputs": [
    {
     "data": {
      "text/plain": [
       "<function matplotlib.pyplot.show(close=None, block=None)>"
      ]
     },
     "execution_count": 24,
     "metadata": {},
     "output_type": "execute_result"
    },
    {
     "data": {
      "image/png": "[encoded data removed]",
      "text/plain": [
       "<Figure size 432x288 with 1 Axes>"
      ]
     },
     "metadata": {
      "needs_background": "light"
     },
     "output_type": "display_data"
    }
   ],
   "source": [
    "plt.plot(iris_classifier.train_accuracy_list)\n",
    "plt.title('Training Accuracy')\n",
    "plt.xlabel('Iterations')\n",
    "plt.ylabel('Accuracy')\n",
    "plt.show"
   ]
  },
  {
   "cell_type": "markdown",
   "metadata": {},
   "source": [
    "As expected, the training loss decreasing over time and the training accuracy increases over time.\n",
    "\n",
    "Now let's get the testing loss and accuracy to see how well the network handles new data."
   ]
  },
  {
   "cell_type": "code",
   "execution_count": 25,
   "metadata": {},
   "outputs": [],
   "source": [
    "# Get loss and accuracy of network using test data\n",
    "iris_classifier.predict(x_test, y_test)"
   ]
  },
  {
   "cell_type": "code",
   "execution_count": 26,
   "metadata": {},
   "outputs": [
    {
     "name": "stdout",
     "output_type": "stream",
     "text": [
      "Training Loss: 1.7181\n",
      "Training Accuracy: 67.62%\n",
      "Testing Loss: 0.6721\n",
      "Testing Accuracy: 64.44%\n"
     ]
    }
   ],
   "source": [
    "print(f'Training Loss: {iris_classifier.train_loss:.4f}')\n",
    "print(f'Training Accuracy: {iris_classifier.train_accuracy:.2%}')\n",
    "print(f'Testing Loss: {iris_classifier.test_loss:.4f}')\n",
    "print(f'Testing Accuracy: {iris_classifier.test_accuracy:.2%}')"
   ]
  },
  {
   "cell_type": "markdown",
   "metadata": {},
   "source": [
    "**Results**\n",
    "\n",
    "Above you can see the loss and accuracies our neural network obtains. We obtain a great training loss with the model and an even better training accuracy given the current configuration (number of hidden neurons, number of iterations, learning rate). We also obtain great testing loss and accuracy. \n",
    "\n",
    "In the next part we'll use keras to create our neural network and train different configurations, such as using different optimizers and adjusting the number of hidden neurons."
   ]
  },
  {
   "cell_type": "markdown",
   "metadata": {},
   "source": [
    "#### (2) Try different design of the neural network, compare with part (1), and report findings. This is an open-ended question, you can change the previous model in several ways, e.g., (1) change the activation function to be tanh, ReLU etc, or (2) try to build more complex neural network by introducing more layers, or many other options. Note that for this part, you are allowed to use deep learning packages."
   ]
  },
  {
   "cell_type": "code",
   "execution_count": 27,
   "metadata": {},
   "outputs": [],
   "source": [
    "from tensorflow.keras import layers\n",
    "from tensorflow.keras import models"
   ]
  },
  {
   "cell_type": "markdown",
   "metadata": {},
   "source": [
    "First, let's try **different optimizers** while keeping everything else constant. We will try the following optimizers:\n",
    "- **Stochastic Gradient Descent** - gradient descent with momentum (momentum helps reduce impact of noise).\n",
    "- **RMSprop** - maintain moving average of square of gradients and divide gradient by root of this average.\n",
    "- **Adam** - SGD method based on adaptive estimation of first-order and second-order moments (combines best parts of Adagrad and RMSprop).\n",
    "- **Adadelta** - SGD method based on adaptive learning rate per dimension.\n",
    "- **Adagrad** - optimizer with parameter-specific learning rates that are adapted relative to how frequently a parameter gets updated.\n",
    "- **Adamax** - varient of Adam based on the infinity norm.\n",
    "\n",
    "We will use one hidden layer for this part, similar to our custom model in part 1. We will also use 512 hidden neurons, a lot more than the 20 our custom model uses."
   ]
  },
  {
   "cell_type": "code",
   "execution_count": 28,
   "metadata": {},
   "outputs": [],
   "source": [
    "def create_model_given_optimizer(optimizer):\n",
    "    model = models.Sequential()\n",
    "    model.add(layers.Dense(512, activation='sigmoid', input_shape=(4,)))\n",
    "    model.add(layers.Dense(3, activation='sigmoid'))\n",
    "    model.compile(optimizer=optimizer, loss='categorical_crossentropy', metrics=['accuracy'])\n",
    "    history = model.fit(x_train, y_train,\n",
    "                        epochs=20,\n",
    "                        validation_data=(x_test, y_test),\n",
    "                        verbose=0)\n",
    "    val_accuracy = history.history['val_accuracy'][-1]\n",
    "    return val_accuracy"
   ]
  },
  {
   "cell_type": "code",
   "execution_count": 29,
   "metadata": {},
   "outputs": [],
   "source": [
    "val_accuracy_dict = {}\n",
    "val_accuracy_dict['SGD'] = create_model_given_optimizer('sgd')\n",
    "val_accuracy_dict['RMSprop'] = create_model_given_optimizer('rmsprop')\n",
    "val_accuracy_dict['Adam'] = create_model_given_optimizer('adam')\n",
    "val_accuracy_dict['Adadelta'] = create_model_given_optimizer('adadelta')\n",
    "val_accuracy_dict['Adagrad'] = create_model_given_optimizer('adagrad')\n",
    "val_accuracy_dict['Adamax'] = create_model_given_optimizer('adamax')"
   ]
  },
  {
   "cell_type": "code",
   "execution_count": 30,
   "metadata": {},
   "outputs": [],
   "source": [
    "def print_accuracy(optimizer, accuracy):\n",
    "    print(f'Accuracy for {optimizer} = {accuracy:.2f}')"
   ]
  },
  {
   "cell_type": "code",
   "execution_count": 31,
   "metadata": {},
   "outputs": [
    {
     "name": "stdout",
     "output_type": "stream",
     "text": [
      "Accuracy for SGD = 0.64\n",
      "Accuracy for RMSprop = 0.82\n",
      "Accuracy for Adam = 0.76\n",
      "Accuracy for Adadelta = 0.36\n",
      "Accuracy for Adagrad = 0.64\n",
      "Accuracy for Adamax = 0.91\n"
     ]
    }
   ],
   "source": [
    "print_accuracy('SGD', val_accuracy_dict['SGD'])\n",
    "print_accuracy('RMSprop', val_accuracy_dict['RMSprop'])\n",
    "print_accuracy('Adam', val_accuracy_dict['Adam'])\n",
    "print_accuracy('Adadelta', val_accuracy_dict['Adadelta'])\n",
    "print_accuracy('Adagrad', val_accuracy_dict['Adagrad'])\n",
    "print_accuracy('Adamax', val_accuracy_dict['Adamax'])"
   ]
  },
  {
   "cell_type": "code",
   "execution_count": 32,
   "metadata": {},
   "outputs": [
    {
     "data": {
      "text/plain": [
       "<function matplotlib.pyplot.show(close=None, block=None)>"
      ]
     },
     "execution_count": 32,
     "metadata": {},
     "output_type": "execute_result"
    },
    {
     "data": {
      "image/png": "[encoded data removed]",
      "text/plain": [
       "<Figure size 432x288 with 1 Axes>"
      ]
     },
     "metadata": {
      "needs_background": "light"
     },
     "output_type": "display_data"
    }
   ],
   "source": [
    "plt.plot(val_accuracy_dict.keys(), val_accuracy_dict.values())\n",
    "plt.title('Validation Accuracy vs. Optimizer')\n",
    "plt.ylabel('Accuracy')\n",
    "plt.show"
   ]
  },
  {
   "cell_type": "markdown",
   "metadata": {},
   "source": [
    "Above we can see the different validation accuracies for the different optimizers. Clearly, **Adadelta was the worst, achieving only a 36% validation accuracy**. The optimizers with the **highest accuracies were RMSprop, Adam, and Adamax**. This makes sense as Adam is generally the optimizer of choice as it combines the best properties of other good optimizers. As for **Adamax, which performed the best with an accuracy of 91%**, this is also expected as it is based on the Adam optimizer and in some cases can be superior to it."
   ]
  },
  {
   "cell_type": "markdown",
   "metadata": {},
   "source": [
    "Next, let's take the best optimizer from the previous part, Adamax, and this time adjust the **number of neurons**. We will still use one hidden layer."
   ]
  },
  {
   "cell_type": "code",
   "execution_count": 33,
   "metadata": {},
   "outputs": [],
   "source": [
    "def create_model_given_neurons(neurons):\n",
    "    model = models.Sequential()\n",
    "    model.add(layers.Dense(neurons, activation='sigmoid', input_shape=(4,)))\n",
    "    model.add(layers.Dense(3, activation='sigmoid'))\n",
    "    model.compile(optimizer='adamax', loss='categorical_crossentropy', metrics=['accuracy'])\n",
    "    history = model.fit(x_train, y_train,\n",
    "                        epochs=20,\n",
    "                        validation_data=(x_test, y_test),\n",
    "                        verbose=0)\n",
    "    val_accuracy = history.history['val_accuracy'][-1]\n",
    "    return val_accuracy"
   ]
  },
  {
   "cell_type": "code",
   "execution_count": 34,
   "metadata": {},
   "outputs": [
    {
     "name": "stdout",
     "output_type": "stream",
     "text": [
      "2\n",
      "4\n",
      "8\n",
      "16\n",
      "32\n",
      "64\n",
      "128\n",
      "256\n",
      "512\n"
     ]
    }
   ],
   "source": [
    "# Create list of neurons from 2 to 512 doubling for each increment\n",
    "neuron_list = []\n",
    "i = 2\n",
    "while (i <= 512):\n",
    "    neuron_list.append(i)\n",
    "    print(i)\n",
    "    i = i * 2"
   ]
  },
  {
   "cell_type": "code",
   "execution_count": 35,
   "metadata": {},
   "outputs": [],
   "source": [
    "val_accuracy_dict = {}\n",
    "for neurons in neuron_list:\n",
    "    val_accuracy_dict[neurons] = create_model_given_neurons(neurons)"
   ]
  },
  {
   "cell_type": "code",
   "execution_count": 36,
   "metadata": {},
   "outputs": [
    {
     "data": {
      "text/plain": [
       "{2: 0.31111112236976624,\n",
       " 4: 0.35555556416511536,\n",
       " 8: 0.6222222447395325,\n",
       " 16: 0.4000000059604645,\n",
       " 32: 0.46666666865348816,\n",
       " 64: 0.800000011920929,\n",
       " 128: 0.8222222328186035,\n",
       " 256: 0.8888888955116272,\n",
       " 512: 0.8888888955116272}"
      ]
     },
     "execution_count": 36,
     "metadata": {},
     "output_type": "execute_result"
    }
   ],
   "source": [
    "val_accuracy_dict"
   ]
  },
  {
   "cell_type": "code",
   "execution_count": 37,
   "metadata": {},
   "outputs": [
    {
     "data": {
      "text/plain": [
       "<function matplotlib.pyplot.show(close=None, block=None)>"
      ]
     },
     "execution_count": 37,
     "metadata": {},
     "output_type": "execute_result"
    },
    {
     "data": {
      "image/png": "[encoded data removed]",
      "text/plain": [
       "<Figure size 432x288 with 1 Axes>"
      ]
     },
     "metadata": {
      "needs_background": "light"
     },
     "output_type": "display_data"
    }
   ],
   "source": [
    "plt.plot(val_accuracy_dict.keys(), val_accuracy_dict.values())\n",
    "plt.title('Validation Accuracy vs. Neurons')\n",
    "plt.xlabel('Neurons')\n",
    "plt.ylabel('Accuracy')\n",
    "plt.show"
   ]
  },
  {
   "cell_type": "markdown",
   "metadata": {},
   "source": [
    "As can be seen in the graph above, **as the number of neurons increases, the accuracy increases**. This makes sense, as more neurons allow the model to learn the features of the data better. There is a tradeoff, though, as you do not want to have too many neurons and make the model too complicated. Based on our results, a good number of neurons seems to be **256 neurons which gave an accuracy of around 89%**."
   ]
  },
  {
   "cell_type": "markdown",
   "metadata": {},
   "source": [
    "Lastly, let's try using the best optimizer and best number of neurons from the previous and now adjust the **number of hidden layers**."
   ]
  },
  {
   "cell_type": "code",
   "execution_count": 38,
   "metadata": {},
   "outputs": [],
   "source": [
    "def create_model_given_activation(activation_function):\n",
    "    model = models.Sequential()\n",
    "    model.add(layers.Dense(512, activation=activation_function, input_shape=(4,)))\n",
    "    model.add(layers.Dense(3, activation=activation_function))\n",
    "    model.compile(optimizer='adamax', loss='categorical_crossentropy', metrics=['accuracy'])\n",
    "    history = model.fit(x_train, y_train,\n",
    "                        epochs=20,\n",
    "                        validation_data=(x_test, y_test),\n",
    "                        verbose=0)\n",
    "    val_accuracy = history.history['val_accuracy'][-1]\n",
    "    return val_accuracy"
   ]
  },
  {
   "cell_type": "code",
   "execution_count": 39,
   "metadata": {},
   "outputs": [],
   "source": [
    "val_accuracy_dict = {}\n",
    "val_accuracy_dict['sigmoid'] = create_model_given_activation('sigmoid')\n",
    "val_accuracy_dict['relu'] = create_model_given_activation('relu')\n",
    "val_accuracy_dict['tanh'] = create_model_given_activation('tanh')\n",
    "val_accuracy_dict['softmax'] = create_model_given_activation('softmax')\n",
    "val_accuracy_dict['linear'] = create_model_given_activation('linear')"
   ]
  },
  {
   "cell_type": "code",
   "execution_count": 40,
   "metadata": {},
   "outputs": [
    {
     "data": {
      "text/plain": [
       "{'sigmoid': 0.800000011920929,\n",
       " 'relu': 0.3333333432674408,\n",
       " 'tanh': 0.7555555701255798,\n",
       " 'softmax': 0.644444465637207,\n",
       " 'linear': 0.31111112236976624}"
      ]
     },
     "execution_count": 40,
     "metadata": {},
     "output_type": "execute_result"
    }
   ],
   "source": [
    "val_accuracy_dict"
   ]
  },
  {
   "cell_type": "code",
   "execution_count": 41,
   "metadata": {},
   "outputs": [
    {
     "data": {
      "text/plain": [
       "<function matplotlib.pyplot.show(close=None, block=None)>"
      ]
     },
     "execution_count": 41,
     "metadata": {},
     "output_type": "execute_result"
    },
    {
     "data": {
      "image/png": "[encoded data removed]",
      "text/plain": [
       "<Figure size 432x288 with 1 Axes>"
      ]
     },
     "metadata": {
      "needs_background": "light"
     },
     "output_type": "display_data"
    }
   ],
   "source": [
    "plt.plot(val_accuracy_dict.keys(), val_accuracy_dict.values())\n",
    "plt.title('Validation Accuracy vs. Activation Function')\n",
    "plt.ylabel('Accuracy')\n",
    "plt.show"
   ]
  },
  {
   "cell_type": "markdown",
   "metadata": {},
   "source": [
    "From the above graph we can see that the activation function we have been using, **sigmoid, actually turns out to perform the best**. On the other hand, **relu and linear appear to give the lowest validation accuracy**."
   ]
  },
  {
   "cell_type": "markdown",
   "metadata": {},
   "source": [
    "Overall, from the above tests we can see that the model that performed best used the **Adamax optimizer**, **256 hidden neurons**, and **sigmoid activation function**. The highest accuracy we achived was an **accuracy of 91%**. This is considerably higher than the **accuracy of our custom neural network of around 65%.** This is expected, of course, as our neural network was much simpler and used a much more basic method of optimization."
   ]
  }
 ],
 "metadata": {
  "kernelspec": {
   "display_name": "Python 3",
   "language": "python",
   "name": "python3"
  },
  "language_info": {
   "codemirror_mode": {
    "name": "ipython",
    "version": 3
   },
   "file_extension": ".py",
   "mimetype": "text/x-python",
   "name": "python",
   "nbconvert_exporter": "python",
   "pygments_lexer": "ipython3",
   "version": "3.8.5"
  }
 },
 "nbformat": 4,
 "nbformat_minor": 4
}
