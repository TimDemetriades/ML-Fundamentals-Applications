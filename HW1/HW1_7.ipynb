{
 "cells": [
  {
   "cell_type": "markdown",
   "metadata": {},
   "source": [
    "# HW1\n",
    "## Question 7\n",
    "### Tim Demetriades\n",
    "#### In this problem, you need to use MLE to deriveand build a logistic regression classifier (suppose the target/responsey∈{0,1}):"
   ]
  },
  {
   "cell_type": "markdown",
   "metadata": {},
   "source": [
    "#### 1. Suppose the classifier isy=xTθ, whereθcontains the weight as well as bias parame-ters.  The log-likelihood function isLL(θ), what is ∂LL(θ)∂θ?\n",
    "Done in the pdf submitted separately."
   ]
  },
  {
   "cell_type": "markdown",
   "metadata": {},
   "source": [
    "#### 2. Write  the  codes  to  build  and  train  the  classifier  on  Iris  plant  dataset  (https://archive.ics.uci.edu/ml/datasets/iris).  The iris dataset contains 150 samples with 4 features for 3 classes. To simplify the problem, we only consider: (a) two classes, i.e., virginica and non-virginica; (b) The first 2 types of features for training, i.e., sepal length and sepal width. Basedon these simplified settings, train the model using gradient descent. Please show the classificationresults. (Note that (1) you could split the iris dataset into train/test set. (2) You could visualizethe results by showing the trained classifier overlaid on the train/test data. (3) You could tune several hyperparameters, e.g., learning rate, weight initialization method etc, to see their effects.(3) You could use sklearn or other packages to load and process the data, but you can notuse thepackage to train the model). "
   ]
  },
  {
   "cell_type": "code",
   "execution_count": 1,
   "metadata": {},
   "outputs": [],
   "source": [
    "import numpy as np"
   ]
  },
  {
   "cell_type": "code",
   "execution_count": 2,
   "metadata": {},
   "outputs": [],
   "source": [
    "# import load_iris function from datasets module\n",
    "from sklearn.datasets import load_iris"
   ]
  },
  {
   "cell_type": "code",
   "execution_count": 3,
   "metadata": {},
   "outputs": [],
   "source": [
    "# save 'bunch' object containing iris dataset and its attributes\n",
    "iris = load_iris()"
   ]
  },
  {
   "cell_type": "code",
   "execution_count": 4,
   "metadata": {},
   "outputs": [
    {
     "name": "stdout",
     "output_type": "stream",
     "text": [
      ".. _iris_dataset:\n",
      "\n",
      "Iris plants dataset\n",
      "--------------------\n",
      "\n",
      "**Data Set Characteristics:**\n",
      "\n",
      "    :Number of Instances: 150 (50 in each of three classes)\n",
      "    :Number of Attributes: 4 numeric, predictive attributes and the class\n",
      "    :Attribute Information:\n",
      "        - sepal length in cm\n",
      "        - sepal width in cm\n",
      "        - petal length in cm\n",
      "        - petal width in cm\n",
      "        - class:\n",
      "                - Iris-Setosa\n",
      "                - Iris-Versicolour\n",
      "                - Iris-Virginica\n",
      "                \n",
      "    :Summary Statistics:\n",
      "\n",
      "    ============== ==== ==== ======= ===== ====================\n",
      "                    Min  Max   Mean    SD   Class Correlation\n",
      "    ============== ==== ==== ======= ===== ====================\n",
      "    sepal length:   4.3  7.9   5.84   0.83    0.7826\n",
      "    sepal width:    2.0  4.4   3.05   0.43   -0.4194\n",
      "    petal length:   1.0  6.9   3.76   1.76    0.9490  (high!)\n",
      "    petal width:    0.1  2.5   1.20   0.76    0.9565  (high!)\n",
      "    ============== ==== ==== ======= ===== ====================\n",
      "\n",
      "    :Missing Attribute Values: None\n",
      "    :Class Distribution: 33.3% for each of 3 classes.\n",
      "    :Creator: R.A. Fisher\n",
      "    :Donor: Michael Marshall (MARSHALL%PLU@io.arc.nasa.gov)\n",
      "    :Date: July, 1988\n",
      "\n",
      "The famous Iris database, first used by Sir R.A. Fisher. The dataset is taken\n",
      "from Fisher's paper. Note that it's the same as in R, but not as in the UCI\n",
      "Machine Learning Repository, which has two wrong data points.\n",
      "\n",
      "This is perhaps the best known database to be found in the\n",
      "pattern recognition literature.  Fisher's paper is a classic in the field and\n",
      "is referenced frequently to this day.  (See Duda & Hart, for example.)  The\n",
      "data set contains 3 classes of 50 instances each, where each class refers to a\n",
      "type of iris plant.  One class is linearly separable from the other 2; the\n",
      "latter are NOT linearly separable from each other.\n",
      "\n",
      ".. topic:: References\n",
      "\n",
      "   - Fisher, R.A. \"The use of multiple measurements in taxonomic problems\"\n",
      "     Annual Eugenics, 7, Part II, 179-188 (1936); also in \"Contributions to\n",
      "     Mathematical Statistics\" (John Wiley, NY, 1950).\n",
      "   - Duda, R.O., & Hart, P.E. (1973) Pattern Classification and Scene Analysis.\n",
      "     (Q327.D83) John Wiley & Sons.  ISBN 0-471-22361-1.  See page 218.\n",
      "   - Dasarathy, B.V. (1980) \"Nosing Around the Neighborhood: A New System\n",
      "     Structure and Classification Rule for Recognition in Partially Exposed\n",
      "     Environments\".  IEEE Transactions on Pattern Analysis and Machine\n",
      "     Intelligence, Vol. PAMI-2, No. 1, 67-71.\n",
      "   - Gates, G.W. (1972) \"The Reduced Nearest Neighbor Rule\".  IEEE Transactions\n",
      "     on Information Theory, May 1972, 431-433.\n",
      "   - See also: 1988 MLC Proceedings, 54-64.  Cheeseman et al\"s AUTOCLASS II\n",
      "     conceptual clustering system finds 3 classes in the data.\n",
      "   - Many, many more ...\n"
     ]
    }
   ],
   "source": [
    "print(iris.DESCR)   # print description of the iris dataset"
   ]
  },
  {
   "cell_type": "code",
   "execution_count": 5,
   "metadata": {},
   "outputs": [
    {
     "name": "stdout",
     "output_type": "stream",
     "text": [
      "(150, 4)\n",
      "[5.1 3.5 1.4 0.2]\n"
     ]
    }
   ],
   "source": [
    "# print the iris data\n",
    "print(iris.data.shape)\n",
    "print(iris.data[0])"
   ]
  },
  {
   "cell_type": "code",
   "execution_count": 6,
   "metadata": {},
   "outputs": [
    {
     "data": {
      "text/plain": [
       "['sepal length (cm)',\n",
       " 'sepal width (cm)',\n",
       " 'petal length (cm)',\n",
       " 'petal width (cm)']"
      ]
     },
     "execution_count": 6,
     "metadata": {},
     "output_type": "execute_result"
    }
   ],
   "source": [
    "# print the names of the 4 features\n",
    "iris.feature_names"
   ]
  },
  {
   "cell_type": "code",
   "execution_count": 7,
   "metadata": {},
   "outputs": [
    {
     "data": {
      "text/plain": [
       "array([0, 0, 0, 0, 0, 0, 0, 0, 0, 0, 0, 0, 0, 0, 0, 0, 0, 0, 0, 0, 0, 0,\n",
       "       0, 0, 0, 0, 0, 0, 0, 0, 0, 0, 0, 0, 0, 0, 0, 0, 0, 0, 0, 0, 0, 0,\n",
       "       0, 0, 0, 0, 0, 0, 1, 1, 1, 1, 1, 1, 1, 1, 1, 1, 1, 1, 1, 1, 1, 1,\n",
       "       1, 1, 1, 1, 1, 1, 1, 1, 1, 1, 1, 1, 1, 1, 1, 1, 1, 1, 1, 1, 1, 1,\n",
       "       1, 1, 1, 1, 1, 1, 1, 1, 1, 1, 1, 1, 2, 2, 2, 2, 2, 2, 2, 2, 2, 2,\n",
       "       2, 2, 2, 2, 2, 2, 2, 2, 2, 2, 2, 2, 2, 2, 2, 2, 2, 2, 2, 2, 2, 2,\n",
       "       2, 2, 2, 2, 2, 2, 2, 2, 2, 2, 2, 2, 2, 2, 2, 2, 2, 2])"
      ]
     },
     "execution_count": 7,
     "metadata": {},
     "output_type": "execute_result"
    }
   ],
   "source": [
    "# print ints representing the species of each observation\n",
    "iris.target"
   ]
  },
  {
   "cell_type": "code",
   "execution_count": 8,
   "metadata": {},
   "outputs": [
    {
     "data": {
      "text/plain": [
       "array(['setosa', 'versicolor', 'virginica'], dtype='<U10')"
      ]
     },
     "execution_count": 8,
     "metadata": {},
     "output_type": "execute_result"
    }
   ],
   "source": [
    "# print the encoding scheme for species: 0 = setosa, 1 = versicolor, 2 = virginica\n",
    "iris.target_names"
   ]
  },
  {
   "cell_type": "markdown",
   "metadata": {},
   "source": [
    "Since we only need 2, virginica and non-virginica, we will set all the 1s (versicolor) equal to 0s (setosa) and all of the 2s (virginica) equal to 1s."
   ]
  },
  {
   "cell_type": "code",
   "execution_count": 9,
   "metadata": {},
   "outputs": [],
   "source": [
    "iris.target[iris.target == 1] = 0    # set any value equal to 1 in the np array equal to 0\n",
    "iris.target[iris.target == 2] = 1    # set any value equal to 2 in the np array equal to 1"
   ]
  },
  {
   "cell_type": "code",
   "execution_count": 10,
   "metadata": {},
   "outputs": [
    {
     "data": {
      "text/plain": [
       "array([0, 0, 0, 0, 0, 0, 0, 0, 0, 0, 0, 0, 0, 0, 0, 0, 0, 0, 0, 0, 0, 0,\n",
       "       0, 0, 0, 0, 0, 0, 0, 0, 0, 0, 0, 0, 0, 0, 0, 0, 0, 0, 0, 0, 0, 0,\n",
       "       0, 0, 0, 0, 0, 0, 0, 0, 0, 0, 0, 0, 0, 0, 0, 0, 0, 0, 0, 0, 0, 0,\n",
       "       0, 0, 0, 0, 0, 0, 0, 0, 0, 0, 0, 0, 0, 0, 0, 0, 0, 0, 0, 0, 0, 0,\n",
       "       0, 0, 0, 0, 0, 0, 0, 0, 0, 0, 0, 0, 1, 1, 1, 1, 1, 1, 1, 1, 1, 1,\n",
       "       1, 1, 1, 1, 1, 1, 1, 1, 1, 1, 1, 1, 1, 1, 1, 1, 1, 1, 1, 1, 1, 1,\n",
       "       1, 1, 1, 1, 1, 1, 1, 1, 1, 1, 1, 1, 1, 1, 1, 1, 1, 1])"
      ]
     },
     "execution_count": 10,
     "metadata": {},
     "output_type": "execute_result"
    }
   ],
   "source": [
    "iris.target"
   ]
  },
  {
   "cell_type": "markdown",
   "metadata": {},
   "source": [
    "Now there are 2 classes:\n",
    "- 0: Non-Virginica\n",
    "- 1: Virginica\n",
    "\n",
    "We also don't need to worry about all 4 features of the dataset and are only concerned with 2 features, the sepal length and sepal width. Therefore, let's remove the other 2 features."
   ]
  },
  {
   "cell_type": "code",
   "execution_count": 11,
   "metadata": {},
   "outputs": [
    {
     "data": {
      "text/plain": [
       "array([[5.1, 3.5, 1.4, 0.2],\n",
       "       [4.9, 3. , 1.4, 0.2],\n",
       "       [4.7, 3.2, 1.3, 0.2]])"
      ]
     },
     "execution_count": 11,
     "metadata": {},
     "output_type": "execute_result"
    }
   ],
   "source": [
    "iris.data[:3]    # show first 3 rows (samples)"
   ]
  },
  {
   "cell_type": "code",
   "execution_count": 12,
   "metadata": {},
   "outputs": [],
   "source": [
    "iris_data = np.delete(iris.data, [2, 3], 1)    # remove the last 2 columns (columns 2 and 3)"
   ]
  },
  {
   "cell_type": "code",
   "execution_count": 13,
   "metadata": {},
   "outputs": [
    {
     "data": {
      "text/plain": [
       "array([[5.1, 3.5],\n",
       "       [4.9, 3. ],\n",
       "       [4.7, 3.2]])"
      ]
     },
     "execution_count": 13,
     "metadata": {},
     "output_type": "execute_result"
    }
   ],
   "source": [
    "iris_data[:3]    # show the first 3 rows, now without the last 2 columns"
   ]
  },
  {
   "cell_type": "markdown",
   "metadata": {},
   "source": [
    "Now we have only 2 features, the sepal length and the sepal width.\n",
    "Let's store the feature matrix in 'x' and the target vector in 'y'."
   ]
  },
  {
   "cell_type": "code",
   "execution_count": 14,
   "metadata": {},
   "outputs": [],
   "source": [
    "x = iris_data\n",
    "y = iris.target"
   ]
  },
  {
   "cell_type": "code",
   "execution_count": 15,
   "metadata": {},
   "outputs": [
    {
     "name": "stdout",
     "output_type": "stream",
     "text": [
      "(150, 2)\n",
      "(150,)\n"
     ]
    }
   ],
   "source": [
    "print(x.shape)\n",
    "print(y.shape)"
   ]
  },
  {
   "cell_type": "markdown",
   "metadata": {},
   "source": [
    "Let's plot the data to see how it currently looks, plotting the sepal length on the x-axis and the sepal-width on the y-axis."
   ]
  },
  {
   "cell_type": "code",
   "execution_count": 16,
   "metadata": {},
   "outputs": [],
   "source": [
    "import matplotlib.pyplot as plt"
   ]
  },
  {
   "cell_type": "code",
   "execution_count": 17,
   "metadata": {},
   "outputs": [
    {
     "data": {
      "image/png": "[encoded data removed]",
      "text/plain": [
       "<Figure size 576x432 with 1 Axes>"
      ]
     },
     "metadata": {
      "needs_background": "light"
     },
     "output_type": "display_data"
    }
   ],
   "source": [
    "plt.figure(0, figsize=(8,6))\n",
    "plt.clf()\n",
    "\n",
    "plt.scatter(x[:, 0], x[:, 1], c=y)\n",
    "plt.xlabel('Sepal Length')\n",
    "plt.ylabel('Sepal Width')\n",
    "plt.title('Sepal Width vs. Sepal Length')\n",
    "plt.show()"
   ]
  },
  {
   "cell_type": "markdown",
   "metadata": {},
   "source": [
    "We need to use **Gradient Descent** to train the model. The basic steps for Gradient Descent are as follows:\n",
    "1. Take the **gradient** of the **loss function**\n",
    "2. Initialize random values for the parameters w\n",
    "3. Plug the parameter values w into the **gradient**\n",
    "4. Calculate the step sizes: **Step Size = gradient * Learning Rate**\n",
    "5. Calculate the new parameters: **New w = Old w - Step Size**\n",
    "6. Repeat 3-5 until step size is very small or the max number of steps is reached\n",
    "\n",
    "We can mini-batch gradient descent (**Stochastic Gradient Descent**) to make the model more general and easier to create by using a randomly selected subeset of the data at every step rather than the full dataset. This will reduce the time spent calculating the derivatives of the loss function.\n",
    "\n",
    "However, since this isn't a very large dataset we will just use all the features and all the samples for each iteration (**Batch Gradient Descent**)."
   ]
  },
  {
   "cell_type": "markdown",
   "metadata": {},
   "source": [
    "The likelihood function we will use is below. We take the negative log to get the cross entropy error function, which is our loss function and what we want to minimize. To minimize, we take the gradient of this loss function with respect to w."
   ]
  },
  {
   "attachments": {
    "0e365711-8b52-4a37-80cc-45b202cfb2a8.png": {
     "image/png": "[encoded data removed]"
    },
    "32bfc624-a3fc-4676-b305-3f01d3aa8632.png": {
     "image/png": "[encoded data removed]"
    },
    "4d421eec-5f07-479a-8ce1-cb9b604119ee.png": {
     "image/png": "[encoded data removed]"
    },
    "b3bcdbe9-fe22-4404-99b7-aa959eeb862d.png": {
     "image/png": "[encoded data removed]"
    },
    "c3a7f901-67fb-4cd0-bccc-b1a8c680241a.png": {
     "image/png": "[encoded data removed]"
    }
   },
   "cell_type": "markdown",
   "metadata": {},
   "source": [
    "### Formulas\n",
    "\n",
    "**Likelihood Function**\n",
    "\n",
    "![image.png](attachment:c3a7f901-67fb-4cd0-bccc-b1a8c680241a.png)\n",
    "\n",
    "![image.png](attachment:32bfc624-a3fc-4676-b305-3f01d3aa8632.png)\n",
    "\n",
    "**Loss Function**\n",
    "\n",
    "![image.png](attachment:b3bcdbe9-fe22-4404-99b7-aa959eeb862d.png)\n",
    "\n",
    "**Derivative of Loss Function**\n",
    "\n",
    "![image.png](attachment:4d421eec-5f07-479a-8ce1-cb9b604119ee.png)\n",
    "\n",
    "**Gradient Descent**\n",
    "\n",
    "![image.png](attachment:0e365711-8b52-4a37-80cc-45b202cfb2a8.png)"
   ]
  },
  {
   "cell_type": "markdown",
   "metadata": {},
   "source": [
    "In the derivative of the loss function formula, y_n is the output of our classifier (the prediction) using the values in w and the features (sepal length and sepal width). t_n is the target/labels (the actual output we are comparing the prediction to - either virginica or non-virginica). fi_n is the input (the 2 features). We will get the error for each of the 150 samples and then sum them up (batch gradient descent).\n",
    "\n",
    "We can think of the equation for y as a line plane of the form y = m1x1 + m2x2 + b, where m1 and m2 are slopes (gradients) and b is a bias term. These 3 terms are what we are trying to optimize. We will initialize the w vector with values for m1, m2, and b by setting them all to 0. We will need to add another feature column for the bias term so that the x vector will have the same shape as the w vector - we can just set this column to 1 for all of the samples."
   ]
  },
  {
   "cell_type": "code",
   "execution_count": 18,
   "metadata": {},
   "outputs": [],
   "source": [
    "x = np.append(x, np.ones([len(x), 1]), 1)    # add a column to the end of x with all 1s"
   ]
  },
  {
   "cell_type": "code",
   "execution_count": 19,
   "metadata": {},
   "outputs": [
    {
     "name": "stdout",
     "output_type": "stream",
     "text": [
      "(150, 3)\n"
     ]
    },
    {
     "data": {
      "text/plain": [
       "array([[5.1, 3.5, 1. ],\n",
       "       [4.9, 3. , 1. ],\n",
       "       [4.7, 3.2, 1. ]])"
      ]
     },
     "execution_count": 19,
     "metadata": {},
     "output_type": "execute_result"
    }
   ],
   "source": [
    "print(x.shape)\n",
    "x[:3]"
   ]
  },
  {
   "cell_type": "markdown",
   "metadata": {},
   "source": [
    "Here we initialize some things. Like stated above we'll fill the w vector with ones to start."
   ]
  },
  {
   "cell_type": "code",
   "execution_count": 20,
   "metadata": {},
   "outputs": [],
   "source": [
    "# Initialization\n",
    "w = np.array([0.0, 0.0, 0.0])    # start gradient descent with zeros\n",
    "w_values = []                    # empty list to hold parameter values w\n",
    "losses = []                      # empty list to hold losses\n",
    "y_n_values = []                  # empty list to hold y_n_values for calculations\n",
    "gradients = []                   # empty list to hold gradients\n",
    "loss = 0                         # start with loss = 0\n",
    "N = x.shape[0]                   # N will be the number of samples (150)\n",
    "learning_rate = 0.001            # factor to scale step size\n",
    "step_size = 0                    # start with step size = 0\n",
    "iterations = 10000               # number of iterations for gradient descent"
   ]
  },
  {
   "cell_type": "code",
   "execution_count": 21,
   "metadata": {},
   "outputs": [],
   "source": [
    "import math    # used for natural log and e"
   ]
  },
  {
   "cell_type": "markdown",
   "metadata": {},
   "source": [
    "We will run a for loop over the number of iterations given. This will be the stopping factor for the gradient descent. \n",
    "\n",
    "First we calculate the **loss** using the current w vector (initially all 0s for the first iteration) and using the Loss Function above. It will be a summation of all the losses for the 150 samples. We'll also divide the loss for each iteration by the total number of samples (150) to get the mean loss.\n",
    "\n",
    "Then we calculate the **gradient** using the parameter values in the w vector and the Derivative of the Loss Function above. y_n_values hold the y_n values for the current values of the w vector, which were calculated when calculating the loss.\n",
    "\n",
    "Next we calculate the **step size** using the gradient and the learning rate.\n",
    "\n",
    "Lastly we can calculate the **new parameter values w** by subtracting the current values for w by the step size vector. We essentially took the formula for Gradient Descent above and split it into two steps.\n",
    "\n",
    "### Gradient Descent"
   ]
  },
  {
   "cell_type": "code",
   "execution_count": 22,
   "metadata": {},
   "outputs": [],
   "source": [
    "# Gradient Descent\n",
    "# For each iteration\n",
    "for iters in range(iterations):\n",
    "    # Clear some values\n",
    "    gradient = 0\n",
    "    loss = 0\n",
    "    y_n_values.clear() \n",
    "    # For each sample\n",
    "    for i in range(N):\n",
    "        y_n = 0\n",
    "        y_n = 1 / (1 + math.exp(-1 * np.dot(w.T, x[i])))\n",
    "        # Calculate the loss\n",
    "        loss += -1 * (y[i] * math.log(y_n) + (1 - y[i]) * math.log(1 - y_n))\n",
    "        y_n_values.append(y_n)\n",
    "        # Calculate the gradient\n",
    "        gradient += (y_n_values[i] - y[i]) * x[i]\n",
    "    # Calculate the step size\n",
    "    step_size = gradient * learning_rate\n",
    "    # Calculate the new parameter values in w\n",
    "    w -= step_size\n",
    "    # Fill lists will current values\n",
    "    losses.append(loss / N)\n",
    "    w_values.append(w.copy())    # copy needed here to create list of np arrays\n",
    "    gradients.append(gradient)"
   ]
  },
  {
   "cell_type": "markdown",
   "metadata": {},
   "source": [
    "### Graphs\n",
    "\n",
    "Let's plot the losses over the number of iterations. The trend we expect to a decreasing function with a slope that starts steep in the negative direction but levels out."
   ]
  },
  {
   "cell_type": "code",
   "execution_count": 23,
   "metadata": {},
   "outputs": [
    {
     "data": {
      "image/png": "[encoded data removed]",
      "text/plain": [
       "<Figure size 576x432 with 1 Axes>"
      ]
     },
     "metadata": {
      "needs_background": "light"
     },
     "output_type": "display_data"
    }
   ],
   "source": [
    "plt.figure(1, figsize=(8,6))\n",
    "plt.plot(losses)\n",
    "plt.xlabel('Iterations')\n",
    "plt.ylabel('Losses')\n",
    "plt.title('Losses vs. Iterations')\n",
    "plt.show()"
   ]
  },
  {
   "cell_type": "markdown",
   "metadata": {},
   "source": [
    "The above graph looks like what we expected. The losses start very high and decrease as they level out.\n",
    "\n",
    "Let's now plot the gradient over the number of iterations. We should expect to see the gradient start high but then approach zero and level out."
   ]
  },
  {
   "cell_type": "code",
   "execution_count": 24,
   "metadata": {},
   "outputs": [
    {
     "data": {
      "text/plain": [
       "<function matplotlib.pyplot.show(close=None, block=None)>"
      ]
     },
     "execution_count": 24,
     "metadata": {},
     "output_type": "execute_result"
    },
    {
     "data": {
      "image/png": "[encoded data removed]",
      "text/plain": [
       "<Figure size 576x432 with 1 Axes>"
      ]
     },
     "metadata": {
      "needs_background": "light"
     },
     "output_type": "display_data"
    }
   ],
   "source": [
    "plt.figure(2, figsize=(8,6))\n",
    "plt.plot(gradients)\n",
    "plt.xlabel('Iterations')\n",
    "plt.ylabel('Gradient')\n",
    "plt.title('Gradient vs. Iterations')\n",
    "plt.show"
   ]
  },
  {
   "cell_type": "markdown",
   "metadata": {},
   "source": [
    "We can even plot one of the derivatives with repect to one of the parameters in w against that parameter. This graph should be linear with a decreasing slope as the derivative approaches zero."
   ]
  },
  {
   "cell_type": "code",
   "execution_count": 25,
   "metadata": {},
   "outputs": [
    {
     "data": {
      "image/png": "[encoded data removed]",
      "text/plain": [
       "<Figure size 576x432 with 1 Axes>"
      ]
     },
     "metadata": {
      "needs_background": "light"
     },
     "output_type": "display_data"
    }
   ],
   "source": [
    "plt.figure(3, figsize=(8,6))\n",
    "plt.plot(w_values[0], gradients[0])\n",
    "plt.xlabel('First parameter in w')\n",
    "plt.ylabel('Derivative wrt first parameter in w')\n",
    "plt.title('Gradient vs. w')\n",
    "plt.show()"
   ]
  },
  {
   "attachments": {
    "6bd20214-3163-4a7b-90d0-549c2e92f8f2.png": {
     "image/png": "[encoded data removed]"
    }
   },
   "cell_type": "markdown",
   "metadata": {},
   "source": [
    "Here we will plot the **Decision Boundary** that the gradient descent gave us based on the parameters values. We will use this equation below for the classifier and set it equal to zero. Theta here is w, the parameters.\n",
    "\n",
    "![image.png](attachment:6bd20214-3163-4a7b-90d0-549c2e92f8f2.png)"
   ]
  },
  {
   "cell_type": "code",
   "execution_count": 26,
   "metadata": {},
   "outputs": [],
   "source": [
    "classifier = (x * w[0] + x * w[1]) / (-1 * w[2])"
   ]
  },
  {
   "cell_type": "code",
   "execution_count": 27,
   "metadata": {},
   "outputs": [
    {
     "data": {
      "image/png": "[encoded data removed]",
      "text/plain": [
       "<Figure size 576x432 with 1 Axes>"
      ]
     },
     "metadata": {
      "needs_background": "light"
     },
     "output_type": "display_data"
    }
   ],
   "source": [
    "plt.figure(4, figsize=(8,6))\n",
    "\n",
    "plt.scatter(x=x, y=classifier*5, label='Decision Boudary')    # plot decision boundary\n",
    "plt.scatter(x[:, 0], x[:, 1], c=y)   # plot samples\n",
    "plt.xlabel('Sepal Length')\n",
    "plt.ylabel('Sepal Width')\n",
    "plt.title('Decision Boundary')\n",
    "plt.xlim(4, 8)\n",
    "plt.ylim(2, 4.5)\n",
    "plt.legend()\n",
    "\n",
    "plt.show()"
   ]
  },
  {
   "attachments": {
    "6381c40d-05d2-4fd8-ad2d-e5886207319e.png": {
     "image/png": "[encoded data removed]"
    }
   },
   "cell_type": "markdown",
   "metadata": {},
   "source": [
    "### Finding the Accuracy of the Classifier\n",
    "\n",
    "We can obtain predictions using the trained parameters w to obtain the accuracy of the classifier. We will use the below formula:\n",
    "\n",
    "![image.png](attachment:6381c40d-05d2-4fd8-ad2d-e5886207319e.png)\n",
    "\n",
    "If this function is greater than 0.5 we predict label 1, otherwise, we predict label 0."
   ]
  },
  {
   "cell_type": "code",
   "execution_count": 28,
   "metadata": {},
   "outputs": [],
   "source": [
    "predictions = []\n",
    "for i in range(x.shape[0]):\n",
    "    classification = 1 / (1 + math.exp(x[i][0] * w[0] + x[i][1] * w[1] + w[2]))\n",
    "    predictions.append(round(classification))"
   ]
  },
  {
   "cell_type": "code",
   "execution_count": 29,
   "metadata": {},
   "outputs": [],
   "source": [
    "predictions = np.array(predictions)    # convert to np array"
   ]
  },
  {
   "cell_type": "code",
   "execution_count": 30,
   "metadata": {},
   "outputs": [],
   "source": [
    "# Swap 1s with 0s and 0s with 1s\n",
    "predictions[predictions == 0] = 2    # intermediary\n",
    "predictions[predictions == 1] = 0\n",
    "predictions[predictions == 2] = 1 "
   ]
  },
  {
   "cell_type": "code",
   "execution_count": 31,
   "metadata": {},
   "outputs": [],
   "source": [
    "from sklearn import metrics"
   ]
  },
  {
   "cell_type": "code",
   "execution_count": 32,
   "metadata": {},
   "outputs": [
    {
     "name": "stdout",
     "output_type": "stream",
     "text": [
      "Accuracy = 81%\n"
     ]
    }
   ],
   "source": [
    "accuracy = metrics.accuracy_score(y, predictions)\n",
    "print('Accuracy = {:.0%}'.format(accuracy))"
   ]
  },
  {
   "cell_type": "markdown",
   "metadata": {},
   "source": [
    "#### Train/Test Split\n",
    "The whole dataset (all 150 samples) has been used up until this point. Let's now split the data into training and testing data so that we can train the classifier using gradient descent and MLE on the training data and then evaluate it on the testing data to get the accuracy."
   ]
  },
  {
   "cell_type": "code",
   "execution_count": 33,
   "metadata": {},
   "outputs": [],
   "source": [
    "# Split x and y into training and testing sets\n",
    "from sklearn.model_selection import train_test_split"
   ]
  },
  {
   "cell_type": "code",
   "execution_count": 34,
   "metadata": {},
   "outputs": [],
   "source": [
    "x_train, x_test, y_train, y_test = train_test_split(x, y, test_size=0.3, random_state=5)"
   ]
  },
  {
   "cell_type": "code",
   "execution_count": 35,
   "metadata": {},
   "outputs": [
    {
     "name": "stdout",
     "output_type": "stream",
     "text": [
      "105\n",
      "45\n"
     ]
    }
   ],
   "source": [
    "print(len(x_train))\n",
    "print(len(x_test))"
   ]
  },
  {
   "cell_type": "markdown",
   "metadata": {},
   "source": [
    "Now let's do the gradient descent on just the training data."
   ]
  },
  {
   "cell_type": "code",
   "execution_count": 36,
   "metadata": {},
   "outputs": [],
   "source": [
    "# Initialization\n",
    "w = np.array([0.0, 0.0, 0.0])    # start gradient descent with zeros\n",
    "w_values = []                    # empty list to hold parameter values w\n",
    "losses = []                      # empty list to hold losses\n",
    "y_n_values = []                  # empty list to hold y_n_values for calculations\n",
    "gradients = []                   # empty list to hold gradients\n",
    "loss = 0                         # start with loss = 0\n",
    "N = x_train.shape[0]             # N will be the number of samples (105)\n",
    "learning_rate = 0.001            # factor to scale step size\n",
    "step_size = 0                    # start with step size = 0\n",
    "iterations = 10000               # number of iterations for gradient descent"
   ]
  },
  {
   "cell_type": "code",
   "execution_count": 37,
   "metadata": {},
   "outputs": [],
   "source": [
    "# Gradient Descent\n",
    "# For each iteration\n",
    "for iters in range(iterations):\n",
    "    # Clear some values\n",
    "    gradient = 0\n",
    "    loss = 0\n",
    "    y_n_values.clear() \n",
    "    # For each sample\n",
    "    for i in range(N):\n",
    "        y_n = 0\n",
    "        y_n = 1 / (1 + math.exp(-1 * np.dot(w.T, x_train[i])))\n",
    "        # Calculate the loss\n",
    "        loss += -1 * (y_train[i] * math.log(y_n) + (1 - y_train[i]) * math.log(1 - y_n))\n",
    "        y_n_values.append(y_n)\n",
    "        # Calculate the gradient\n",
    "        gradient += (y_n_values[i] - y_train[i]) * x_train[i]\n",
    "    # Calculate the step size\n",
    "    step_size = gradient * learning_rate\n",
    "    # Calculate the new parameter values in w\n",
    "    w -= step_size\n",
    "    # Fill lists will current values\n",
    "    losses.append(loss / N)\n",
    "    w_values.append(w.copy())    # copy needed here to create list of np arrays\n",
    "    gradients.append(gradient)"
   ]
  },
  {
   "cell_type": "code",
   "execution_count": 38,
   "metadata": {},
   "outputs": [],
   "source": [
    "predictions_train = []\n",
    "for i in range(x_train.shape[0]):\n",
    "    classification = 1 / (1 + math.exp(x_train[i][0] * w[0] + x_train[i][1] * w[1] + w[2]))\n",
    "    predictions_train.append(round(classification))"
   ]
  },
  {
   "cell_type": "code",
   "execution_count": 39,
   "metadata": {},
   "outputs": [],
   "source": [
    "predictions_train = np.array(predictions_train)    # convert to np array"
   ]
  },
  {
   "cell_type": "code",
   "execution_count": 40,
   "metadata": {},
   "outputs": [],
   "source": [
    "# Swap 1s with 0s and 0s with 1s\n",
    "predictions_train[predictions_train == 0] = 2    # intermediary\n",
    "predictions_train[predictions_train == 1] = 0\n",
    "predictions_train[predictions_train == 2] = 1 "
   ]
  },
  {
   "cell_type": "markdown",
   "metadata": {},
   "source": [
    "Now we can obtain the training accuracy."
   ]
  },
  {
   "cell_type": "code",
   "execution_count": 41,
   "metadata": {},
   "outputs": [
    {
     "name": "stdout",
     "output_type": "stream",
     "text": [
      "Training Accuracy = 80%\n"
     ]
    }
   ],
   "source": [
    "training_accuracy = metrics.accuracy_score(y_train, predictions_train)\n",
    "print('Training Accuracy = {:.0%}'.format(training_accuracy))"
   ]
  },
  {
   "cell_type": "markdown",
   "metadata": {},
   "source": [
    "Let's now get the predictions for the test data using the same trained parameters."
   ]
  },
  {
   "cell_type": "code",
   "execution_count": 42,
   "metadata": {},
   "outputs": [],
   "source": [
    "predictions_test = []\n",
    "for i in range(x_test.shape[0]):\n",
    "    classification = 1 / (1 + math.exp(x_test[i][0] * w[0] + x_test[i][1] * w[1] + w[2]))\n",
    "    predictions_test.append(round(classification))"
   ]
  },
  {
   "cell_type": "code",
   "execution_count": 43,
   "metadata": {},
   "outputs": [],
   "source": [
    "predictions_test = np.array(predictions_test)    # convert to np array"
   ]
  },
  {
   "cell_type": "code",
   "execution_count": 44,
   "metadata": {},
   "outputs": [],
   "source": [
    "# Swap 1s with 0s and 0s with 1s\n",
    "predictions_test[predictions_test == 0] = 2    # intermediary\n",
    "predictions_test[predictions_test == 1] = 0\n",
    "predictions_test[predictions_test == 2] = 1 "
   ]
  },
  {
   "cell_type": "markdown",
   "metadata": {},
   "source": [
    "And finally we obtain the testing accuracy."
   ]
  },
  {
   "cell_type": "code",
   "execution_count": 45,
   "metadata": {},
   "outputs": [
    {
     "name": "stdout",
     "output_type": "stream",
     "text": [
      "Testing Accuracy = 80%\n"
     ]
    }
   ],
   "source": [
    "testing_accuracy = metrics.accuracy_score(y_test, predictions_test)\n",
    "print('Testing Accuracy = {:.0%}'.format(testing_accuracy))"
   ]
  },
  {
   "cell_type": "markdown",
   "metadata": {},
   "source": [
    "All in all, using gradient descent, we were able to obtain classification of the simplified iris dataset using MLE. There are of course ways we can improve this, such as using stochastic gradient descent or by increasing the number of iterations, but for what we have this model performs pretty well as is."
   ]
  }
 ],
 "metadata": {
  "kernelspec": {
   "display_name": "Python 3",
   "language": "python",
   "name": "python3"
  },
  "language_info": {
   "codemirror_mode": {
    "name": "ipython",
    "version": 3
   },
   "file_extension": ".py",
   "mimetype": "text/x-python",
   "name": "python",
   "nbconvert_exporter": "python",
   "pygments_lexer": "ipython3",
   "version": "3.8.5"
  }
 },
 "nbformat": 4,
 "nbformat_minor": 4
}
